{
 "cells": [
  {
   "cell_type": "markdown",
   "id": "c71b1e59",
   "metadata": {},
   "source": [
    "# Proteomic Analyses Continued\n",
    "\n",
    "This document will take you through plotting proteomic data."
   ]
  },
  {
   "cell_type": "markdown",
   "id": "95dce80a",
   "metadata": {},
   "source": [
    "## (0) Setup\n",
    "\n",
    "1. Set your working director.\n",
    "2. Import cptac, numpy (np), and pandas (pd).\n",
    "3. Download the Brca dataset\n",
    "4. Extract the clinical, transcriptomic, and proteomic dataframes from the Brca object"
   ]
  },
  {
   "cell_type": "code",
   "execution_count": null,
   "id": "ae925c81",
   "metadata": {
    "scrolled": true
   },
   "outputs": [],
   "source": [
    "# set your working director to analysis data\n",
    "import os\n",
    "os.chdir('/Users/talhaaccount/Desktop/Qbio_490_R/qbio_490_talha/analysis_data')\n",
    "\n",
    "# import cptac, numpy, and pandas\n",
    "import cptac as cp\n",
    "import numpy as np\n",
    "import pandas as pd\n",
    "\n",
    "# download the Brca dataset\n",
    "cptac.download(dataset=\"FILL IN HERE\")\n",
    "brca = cptac.Brca()\n",
    "\n",
    "# extract the data\n",
    "clinical_data = \n",
    "transcriptomic_data = \n",
    "protein_data = \n",
    "protein_data.columns = protein_data.columns.get_level_values(0) "
   ]
  },
  {
   "cell_type": "markdown",
   "id": "22db65f2",
   "metadata": {},
   "source": [
    "## (1) Plotting with matplotlib\n",
    "\n",
    "Let's explore some more complex ways to plot using the Matplotlib package.\n",
    "\n",
    "Import pyplot from matplotlib as its common handle (plt)"
   ]
  },
  {
   "cell_type": "code",
   "execution_count": null,
   "id": "4ecd10bc",
   "metadata": {},
   "outputs": [],
   "source": [
    "# Write code here"
   ]
  },
  {
   "cell_type": "markdown",
   "id": "cf66e4dd",
   "metadata": {},
   "source": [
    "Let's explore how the proteomic expression of a gene differs between young and old patients.\n",
    "\n",
    "**Exercise 1.1** Plot the expression data of a chosen protein stratified between young ($\\lt$50) and old ($\\ge$ 50) patients."
   ]
  },
  {
   "cell_type": "code",
   "execution_count": null,
   "id": "0ee0ba55",
   "metadata": {},
   "outputs": [],
   "source": [
    "young_mask = FILL IN HERE\n",
    "old_mask = FILL IN HERE\n",
    "\n",
    "young = (protein_data.loc[FILL IN HERE]).dropna() # the age column is 'Age.in.Month', which (as stated) is in months\n",
    "old = (protein_data.loc[FILL IN HERE]).dropna()\n",
    "\n",
    "data = [old.values, young.values] # our boxplot function will require an array (or an array of arrays)\n",
    "data"
   ]
  },
  {
   "cell_type": "code",
   "execution_count": null,
   "id": "1a6372e7",
   "metadata": {},
   "outputs": [],
   "source": [
    "fig, ax = plt.subplots()\n",
    "\n",
    "plt.axhline(y = 0, color = 'blue', linestyle = '-')\n",
    "plt.axhline(y = -1, color = 'blue', linestyle = ':')\n",
    "plt.axhline(y = 1, color = 'blue', linestyle = ':')\n",
    "\n",
    "\n",
    "bp = ax.boxplot(FILL IN HERE) # data goes here\n",
    "plt.xticks([1, 2], [\"FILL IN HERE\", \"FILL IN HERE\"]) # use \\n for new line if desired\n",
    "\n",
    "\n",
    "plt.show()"
   ]
  },
  {
   "cell_type": "markdown",
   "id": "7787a67f",
   "metadata": {},
   "source": [
    "**Exercise 1.2** Why do you think we added lines at -1, 0, and 1? What do these values represent in terms of log2FoldChange?"
   ]
  },
  {
   "cell_type": "code",
   "execution_count": null,
   "id": "0e6f309c",
   "metadata": {},
   "outputs": [],
   "source": [
    "# answer in a comment here"
   ]
  },
  {
   "cell_type": "markdown",
   "id": "8778e132",
   "metadata": {},
   "source": [
    "## (2) SciPy\n",
    "\n",
    "Another question to ask is if the levels of RNA expression correlate with protein expression. While we would expect for there to be a 1:1 relationship between RNA and protein (according to the central dogma), as you will see, this is not what we oftentimes observe."
   ]
  },
  {
   "cell_type": "code",
   "execution_count": 2,
   "id": "d9671f62",
   "metadata": {},
   "outputs": [],
   "source": [
    "from scipy import stats # we are using the stats package in particular"
   ]
  },
  {
   "cell_type": "markdown",
   "id": "fba64034",
   "metadata": {},
   "source": [
    "The first thing we need to do is to identify which patients and genes are shared between the transcriptomic and proteomic data sets.\n",
    "\n",
    "Luckily for us, all 122 patients in the Brca dataset have clinical, transcriptomic, and proteomic data. If this were not the case (such as in the colon cancer database), we would use `intersect1d()` to fix this. We will still need to use `intersect1d()` to determine which genes are shared.\n",
    "\n",
    "**Exercise 2.1** To make sure the data frames match:\n",
    "\n",
    "1. Identify the names of the genes that are shared between the two datasets (hint: use `intersect1d()`). Is this data the row or column names?\n",
    "2. Create the rna_shared and prot_shared data frames; ie dataframes with only genes that are shared between rna and protein data. (Hint: how can we access rows/columns by name?)."
   ]
  },
  {
   "cell_type": "code",
   "execution_count": null,
   "id": "55af010c",
   "metadata": {},
   "outputs": [],
   "source": [
    "# 1. Identify the genes (RNA, protein) shared between the two data sets \n",
    "shared_rna_prot = FILL IN HERE\n",
    "\n",
    "# 2. Create the two data frames\n",
    "rna_shared = FILL IN HERE\n",
    "prot_shared = FILL IN HERE"
   ]
  },
  {
   "cell_type": "markdown",
   "id": "22dc5788",
   "metadata": {},
   "source": [
    "Now, we can see how correlated the RNA and protein levels are. We'll use Spearman correlation from the stats library, which is `spearmanr()`. \n",
    "\n",
    "**Exercise 2.2** Choose a gene and get the Spearman correlation of the rna to protein of that gene."
   ]
  },
  {
   "cell_type": "code",
   "execution_count": null,
   "id": "feb645cd",
   "metadata": {},
   "outputs": [],
   "source": [
    "# we need the nan_policy=\"omit\" to throw out NaN values\n",
    "corr, pval = stats.spearmanr(rna_shared[\"FILL IN HERE\"], prot_shared[\"FILL IN HERE\"], nan_policy=\"omit\")\n",
    "\n",
    "print(f\"The correlation of FILL IN HERE is {round(corr, 3)} (p = {round(pval, 10)}).\")"
   ]
  },
  {
   "cell_type": "markdown",
   "id": "70403bc0",
   "metadata": {},
   "source": [
    "**Exercise 2.3** What is your gene's Spearman correlation? What does that mean mathematically? What could this represent biologically? Look into the literature to see if it corroborates this idea."
   ]
  },
  {
   "cell_type": "code",
   "execution_count": null,
   "id": "3705801e",
   "metadata": {},
   "outputs": [],
   "source": [
    "# answer in a comment here"
   ]
  },
  {
   "cell_type": "markdown",
   "id": "d8ae2a00",
   "metadata": {},
   "source": [
    "## (3) Heatmaps\n",
    "**Exercise 3.1** A problem arises if we want to compare many correlations. Heatmaps are useful for visualizing a large number of comparisons. To make a heatmap, we'll use the `heatmap()` function from seaborn. Let's do the following:\n",
    "\n",
    "1. Set up our data frame to hold all comparisons. All you need to do is to access the first 20 gene names.\n",
    "2. Calculate the correlations for the first 20 genes (just to save time). You'll need to use two for loops.\n",
    "3. Call `clustermap()` -- this is filled in for you!\n",
    "4. Interpret the data. There is a \"light\" diagonal along the heatmap from the top-left to bottom-right. Is this expected? Why or why not?"
   ]
  },
  {
   "cell_type": "code",
   "execution_count": null,
   "id": "0926105f",
   "metadata": {},
   "outputs": [],
   "source": [
    "# import seaborn as sns\n"
   ]
  },
  {
   "cell_type": "code",
   "execution_count": null,
   "id": "767e52be",
   "metadata": {},
   "outputs": [],
   "source": [
    "ncomparisons = 20 # define this variable in case we want to change the number of correlations to test\n",
    "                  # this makes it less likely you'll forget to change a number, e.g. in the data frame shape\n",
    "gene_names = FILL IN HERE # get the first ncomparisons gene names\n",
    "\n",
    "\n",
    "# Don't worry about this code\n",
    "# It's good practice to declare your data frame beforehand (it's much faster than appending to a list)\n",
    "# We fill everything in with 0 just as a placeholder\n",
    "corr_df = pd.DataFrame(np.ndarray(shape=(ncomparisons, ncomparisons), dtype=np.float16),\n",
    "                      index = gene_names,\n",
    "                      columns = gene_names)\n",
    "\n",
    "# 2. fill in the data frame!\n",
    "for g1 in gene_names:\n",
    "    for g2 in gene_names:\n",
    "        # calculate the correlations between protein and RNA\n",
    "        # then, use .loc[] to store the correlation in corr_df\n",
    "        FILL IN HERE\n",
    "\n",
    "# 3. create the heat map\n",
    "plot = sns.heatmap(\n",
    "    corr_df,\n",
    "    cmap='mako',\n",
    ")\n",
    "plot.set_xlabel('Protein', fontsize=10)\n",
    "plot.set_ylabel('RNA', fontsize=10)\n",
    "plt.show()\n",
    "\n",
    "# 4. interpret!\n"
   ]
  },
  {
   "cell_type": "markdown",
   "id": "d110d20d",
   "metadata": {},
   "source": [
    "## (4) Plotting with Seaborn"
   ]
  },
  {
   "cell_type": "markdown",
   "id": "ca0cce21",
   "metadata": {},
   "source": [
    "`seaborn` is a nice package that makes prettier plots with more control over the figure.\n",
    "\n",
    "Here's how you make a scatter plot with seaborn, for example:"
   ]
  },
  {
   "cell_type": "code",
   "execution_count": null,
   "id": "6ceb20cf",
   "metadata": {
    "scrolled": false
   },
   "outputs": [],
   "source": [
    "fig, ax = plt.subplots()\n",
    "\n",
    "sns.scatterplot( # x-axis\n",
    "    x = clinical_data.loc[:, \"Age.in.Month\"],\n",
    "    y = protein_data.loc[:, \"DYNLT3\"],# y-axis\n",
    "    legend = \"full\",  # show the legend\n",
    "    ax = ax  # necessary for when plotting more than 1 subplot\n",
    ")\n",
    "\n",
    "fig.suptitle('Age vs. DYNLT3')  # set title\n",
    "\n",
    "plt.show()"
   ]
  },
  {
   "cell_type": "markdown",
   "id": "5a06d33b",
   "metadata": {},
   "source": [
    "**Exercise 4.1** Update the above plot to:\n",
    "1. Have age in years instead of months.\n",
    "2. Color patients based on gender (or another clinical variable of your choosing)\n",
    "3. Have a side-by-side second plot with a different protein of your choosing\n",
    "\n",
    "NOTE: you will need to Google to figure out how to do most of the above things!"
   ]
  },
  {
   "cell_type": "code",
   "execution_count": null,
   "id": "18fbcbc1",
   "metadata": {},
   "outputs": [],
   "source": [
    "# create plot here"
   ]
  },
  {
   "cell_type": "markdown",
   "id": "7dc046de",
   "metadata": {},
   "source": [
    "## (5) Saving Plots\n",
    "\n",
    "Finally, to save a plot, we can call `plt.savefig()` instead of the `plt.show()`."
   ]
  },
  {
   "cell_type": "code",
   "execution_count": null,
   "id": "d4df97f2",
   "metadata": {},
   "outputs": [],
   "source": [
    "fig, ax = plt.subplots()\n",
    "\n",
    "sns.scatterplot( # x-axis\n",
    "    x = clinical_data.loc[:, \"Age.in.Month\"],\n",
    "    y = protein_data.loc[:, \"DYNLT3\"],# y-axis\n",
    "    legend = \"full\",  # show the legend\n",
    "    ax = ax  # necessary for when plotting more than 1 subplot\n",
    ")\n",
    "\n",
    "fig.suptitle('Age vs. DYNLT3')  # set title\n",
    "\n",
    "# age_scatter.png is a relative path so check your working directory before running it\n",
    "plt.savefig('age_scatter.png', bbox_inches='tight')"
   ]
  }
 ],
 "metadata": {
  "kernelspec": {
   "display_name": "Python 3 (ipykernel)",
   "language": "python",
   "name": "python3"
  },
  "language_info": {
   "codemirror_mode": {
    "name": "ipython",
    "version": 3
   },
   "file_extension": ".py",
   "mimetype": "text/x-python",
   "name": "python",
   "nbconvert_exporter": "python",
   "pygments_lexer": "ipython3",
   "version": "3.9.13"
  }
 },
 "nbformat": 4,
 "nbformat_minor": 5
}
